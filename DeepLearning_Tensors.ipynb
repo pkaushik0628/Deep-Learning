{
  "nbformat": 4,
  "nbformat_minor": 0,
  "metadata": {
    "colab": {
      "provenance": []
    },
    "kernelspec": {
      "name": "python3",
      "display_name": "Python 3"
    },
    "language_info": {
      "name": "python"
    }
  },
  "cells": [
    {
      "cell_type": "markdown",
      "source": [
        "# Introduction to PyTorch"
      ],
      "metadata": {
        "id": "k47uyJXsVpL5"
      }
    },
    {
      "cell_type": "code",
      "execution_count": 3,
      "metadata": {
        "colab": {
          "base_uri": "https://localhost:8080/"
        },
        "id": "6xJjbOs8OTSA",
        "outputId": "3f171f88-4582-40a9-d6f3-4313a508e653"
      },
      "outputs": [
        {
          "output_type": "stream",
          "name": "stdout",
          "text": [
            "\u001b[?25l     \u001b[90m━━━━━━━━━━━━━━━━━━━━━━━━━━━━━━━━━━━━━━━━\u001b[0m \u001b[32m0.0/2.8 MB\u001b[0m \u001b[31m?\u001b[0m eta \u001b[36m-:--:--\u001b[0m\r\u001b[2K     \u001b[91m━\u001b[0m\u001b[91m╸\u001b[0m\u001b[90m━━━━━━━━━━━━━━━━━━━━━━━━━━━━━━━━━━━━━━\u001b[0m \u001b[32m0.1/2.8 MB\u001b[0m \u001b[31m3.5 MB/s\u001b[0m eta \u001b[36m0:00:01\u001b[0m\r\u001b[2K     \u001b[91m━━━━━━━━\u001b[0m\u001b[91m╸\u001b[0m\u001b[90m━━━━━━━━━━━━━━━━━━━━━━━━━━━━━━━\u001b[0m \u001b[32m0.6/2.8 MB\u001b[0m \u001b[31m9.2 MB/s\u001b[0m eta \u001b[36m0:00:01\u001b[0m\r\u001b[2K     \u001b[91m━━━━━━━━━━━━━━━━━━━━━━━━━━━━━━━━━━━━\u001b[0m\u001b[90m╺\u001b[0m\u001b[90m━━━\u001b[0m \u001b[32m2.6/2.8 MB\u001b[0m \u001b[31m26.1 MB/s\u001b[0m eta \u001b[36m0:00:01\u001b[0m\r\u001b[2K     \u001b[90m━━━━━━━━━━━━━━━━━━━━━━━━━━━━━━━━━━━━━━━━\u001b[0m \u001b[32m2.8/2.8 MB\u001b[0m \u001b[31m22.5 MB/s\u001b[0m eta \u001b[36m0:00:00\u001b[0m\n",
            "\u001b[?25h  Preparing metadata (setup.py) ... \u001b[?25l\u001b[?25hdone\n",
            "\u001b[2K     \u001b[90m━━━━━━━━━━━━━━━━━━━━━━━━━━━━━━━━━━━━━━━━\u001b[0m \u001b[32m41.4/41.4 kB\u001b[0m \u001b[31m3.2 MB/s\u001b[0m eta \u001b[36m0:00:00\u001b[0m\n",
            "\u001b[2K     \u001b[90m━━━━━━━━━━━━━━━━━━━━━━━━━━━━━━━━━━━━━━\u001b[0m \u001b[32m152.5/152.5 kB\u001b[0m \u001b[31m12.8 MB/s\u001b[0m eta \u001b[36m0:00:00\u001b[0m\n",
            "\u001b[2K     \u001b[90m━━━━━━━━━━━━━━━━━━━━━━━━━━━━━━━━━━━━━━━━\u001b[0m \u001b[32m41.6/41.6 kB\u001b[0m \u001b[31m3.6 MB/s\u001b[0m eta \u001b[36m0:00:00\u001b[0m\n",
            "\u001b[2K   \u001b[90m━━━━━━━━━━━━━━━━━━━━━━━━━━━━━━━━━━━━━━━━\u001b[0m \u001b[32m694.9/694.9 kB\u001b[0m \u001b[31m42.5 MB/s\u001b[0m eta \u001b[36m0:00:00\u001b[0m\n",
            "\u001b[2K   \u001b[90m━━━━━━━━━━━━━━━━━━━━━━━━━━━━━━━━━━━━━━━━\u001b[0m \u001b[32m69.8/69.8 kB\u001b[0m \u001b[31m6.1 MB/s\u001b[0m eta \u001b[36m0:00:00\u001b[0m\n",
            "\u001b[2K   \u001b[90m━━━━━━━━━━━━━━━━━━━━━━━━━━━━━━━━━━━━━━━━\u001b[0m \u001b[32m9.1/9.1 MB\u001b[0m \u001b[31m107.8 MB/s\u001b[0m eta \u001b[36m0:00:00\u001b[0m\n",
            "\u001b[2K   \u001b[90m━━━━━━━━━━━━━━━━━━━━━━━━━━━━━━━━━━━━━━━━\u001b[0m \u001b[32m3.2/3.2 MB\u001b[0m \u001b[31m89.4 MB/s\u001b[0m eta \u001b[36m0:00:00\u001b[0m\n",
            "\u001b[2K   \u001b[90m━━━━━━━━━━━━━━━━━━━━━━━━━━━━━━━━━━━━━━━━\u001b[0m \u001b[32m278.4/278.4 kB\u001b[0m \u001b[31m24.1 MB/s\u001b[0m eta \u001b[36m0:00:00\u001b[0m\n",
            "\u001b[2K   \u001b[90m━━━━━━━━━━━━━━━━━━━━━━━━━━━━━━━━━━━━━━━━\u001b[0m \u001b[32m66.8/66.8 kB\u001b[0m \u001b[31m6.5 MB/s\u001b[0m eta \u001b[36m0:00:00\u001b[0m\n",
            "\u001b[?25h  Building wheel for mitdeeplearning (setup.py) ... \u001b[?25l\u001b[?25hdone\n"
          ]
        }
      ],
      "source": [
        "import torch\n",
        "import torch.nn as nn\n",
        "\n",
        "!pip install mitdeeplearning --quiet\n",
        "\n",
        "import numpy as np\n",
        "import matplotlib.pyplot as plt\n",
        "\n"
      ]
    },
    {
      "cell_type": "code",
      "source": [
        "#Tensor is a n-dimensional arrays of base datatypes like strings and integers\n",
        "#0-d tensots\n",
        "\n",
        "integer = torch.tensor(1234)\n",
        "decimal = torch.tensor(3.414)\n",
        "\n",
        "print(f\"'integer' is a {integer.ndim}-d tensor: {integer}\")\n",
        "print(f\"'decimal' is a {decimal.ndim}-d tensor: {decimal}\")\n"
      ],
      "metadata": {
        "colab": {
          "base_uri": "https://localhost:8080/"
        },
        "id": "mfGJuhVxO2Cc",
        "outputId": "5ef0eb3f-7f87-4bbf-88b8-c45b3fdb041c"
      },
      "execution_count": 4,
      "outputs": [
        {
          "output_type": "stream",
          "name": "stdout",
          "text": [
            "'integer' is a 0-d tensor: 1234\n",
            "'decimal' is a 0-d tensor: 3.4140000343322754\n"
          ]
        }
      ]
    },
    {
      "cell_type": "code",
      "source": [
        "#1-D tensors\n",
        "#Vectors and lists can be used to create 1-D tensors\n",
        "\n",
        "fibonacci = torch.tensor([1,2,3,4,5])\n",
        "count_2_100 = torch.tensor(range(1,100))\n",
        "\n",
        "print(f\"fibonacci is a {fibonacci.ndim}-d tensor: {fibonacci}\")\n",
        "print(f\"count_2_100 is a {count_2_100.ndim}-d tensor: {count_2_100}\")\n"
      ],
      "metadata": {
        "colab": {
          "base_uri": "https://localhost:8080/"
        },
        "id": "HW90bW9iP8-C",
        "outputId": "9055c640-8a4f-4f08-9a7c-60be60caa120"
      },
      "execution_count": 5,
      "outputs": [
        {
          "output_type": "stream",
          "name": "stdout",
          "text": [
            "fibonacci is a 1-d tensor: tensor([1, 2, 3, 4, 5])\n",
            "count_2_100 is a 1-d tensor: tensor([ 1,  2,  3,  4,  5,  6,  7,  8,  9, 10, 11, 12, 13, 14, 15, 16, 17, 18,\n",
            "        19, 20, 21, 22, 23, 24, 25, 26, 27, 28, 29, 30, 31, 32, 33, 34, 35, 36,\n",
            "        37, 38, 39, 40, 41, 42, 43, 44, 45, 46, 47, 48, 49, 50, 51, 52, 53, 54,\n",
            "        55, 56, 57, 58, 59, 60, 61, 62, 63, 64, 65, 66, 67, 68, 69, 70, 71, 72,\n",
            "        73, 74, 75, 76, 77, 78, 79, 80, 81, 82, 83, 84, 85, 86, 87, 88, 89, 90,\n",
            "        91, 92, 93, 94, 95, 96, 97, 98, 99])\n"
          ]
        }
      ]
    },
    {
      "cell_type": "code",
      "source": [
        "#2-D Tensors\n",
        "\n",
        "matrix = torch.tensor([[1,2,3], [4,5,6], [7,8,9]])\n",
        "assert isinstance(matrix, torch.Tensor)\n",
        "assert matrix.ndim == 2\n",
        "\n",
        "print(f\"'matrix' shape is {matrix.ndim}-d\")\n",
        "\n",
        "#4D Tensors\n",
        "\n",
        "images = torch.zeros(10,3, 256, 256)\n",
        "assert isinstance(images, torch.Tensor)\n",
        "assert images.ndim == 4\n",
        "assert images.shape == (10,3,256,256)\n",
        "\n",
        "print(f\"'Images' size is {images.ndim}-d with shape {images.shape}\")\n"
      ],
      "metadata": {
        "colab": {
          "base_uri": "https://localhost:8080/"
        },
        "id": "psPWhvcMQ5YK",
        "outputId": "2c79e104-6a33-413e-fe04-94e3e8e61fdb"
      },
      "execution_count": 6,
      "outputs": [
        {
          "output_type": "stream",
          "name": "stdout",
          "text": [
            "'matrix' shape is 2-d\n",
            "'Images' size is 4-d with shape torch.Size([10, 3, 256, 256])\n"
          ]
        }
      ]
    },
    {
      "cell_type": "code",
      "source": [
        "#Other examples\n",
        "\n",
        "row_vector = matrix[1, :]\n",
        "column_vector = matrix[:, 1]\n",
        "scalar = matrix[0,1]\n",
        "\n",
        "print(f\"Row vetcor is: {row_vector}\")\n",
        "print(f\"Column vector is: {column_vector}\")\n",
        "print(f\"scalar is: {scalar}\")\n"
      ],
      "metadata": {
        "colab": {
          "base_uri": "https://localhost:8080/"
        },
        "id": "gWZBIHq1UDyc",
        "outputId": "7408cbf6-4916-4dab-e719-1cb18b702901"
      },
      "execution_count": 7,
      "outputs": [
        {
          "output_type": "stream",
          "name": "stdout",
          "text": [
            "Row vetcor is: tensor([4, 5, 6])\n",
            "Column vector is: tensor([2, 5, 8])\n",
            "scalar is: 2\n"
          ]
        }
      ]
    },
    {
      "cell_type": "markdown",
      "source": [
        "# Computations on Torches"
      ],
      "metadata": {
        "id": "ldo06IKvVvAN"
      }
    },
    {
      "cell_type": "code",
      "source": [
        "#Addition on singular values (addition of 0d tensors)\n",
        "\n",
        "a = torch.tensor(5)\n",
        "b = torch.tensor(15)\n",
        "\n",
        "c = torch.add(a,b)\n",
        "d = a+b\n",
        "print(f\"c = {c} and d = {d}\")"
      ],
      "metadata": {
        "colab": {
          "base_uri": "https://localhost:8080/"
        },
        "id": "wLHfKvyLVyKy",
        "outputId": "30eb91d3-3a68-4c28-d685-ea67f01bc682"
      },
      "execution_count": 8,
      "outputs": [
        {
          "output_type": "stream",
          "name": "stdout",
          "text": [
            "c = 20 and d = 20\n"
          ]
        }
      ]
    },
    {
      "cell_type": "code",
      "source": [
        "def func(a,b):\n",
        "  c = a+b\n",
        "  d = 2*c\n",
        "  e = d/2\n",
        "  return e\n",
        "\n",
        "a = torch.tensor(5)\n",
        "b = torch.tensor(15)\n",
        "example = func(a,b)\n",
        "\n",
        "print(f\"examples answer is {example}\")"
      ],
      "metadata": {
        "colab": {
          "base_uri": "https://localhost:8080/"
        },
        "id": "l1WuHno9WQUa",
        "outputId": "8151307d-d3e4-4ccc-c534-2a594f762c9c"
      },
      "execution_count": 9,
      "outputs": [
        {
          "output_type": "stream",
          "name": "stdout",
          "text": [
            "examples answer is 20.0\n"
          ]
        }
      ]
    },
    {
      "cell_type": "markdown",
      "source": [
        "# Neural Networks in PyTorch"
      ],
      "metadata": {
        "id": "-DcQdRRfXI3i"
      }
    },
    {
      "cell_type": "code",
      "source": [
        "#In pytorch, all neural networks are sublcasses of nn.Module\n",
        "\n",
        "class OurDenseLayer(torch.nn.Module):\n",
        "  def __init__(self, num_inputs, num_outputs):\n",
        "    super(OurDenseLayer, self).__init__()\n",
        "    #Define Weights randomly\n",
        "    self.W = torch.nn.Parameter(torch.randn(num_inputs,num_outputs))\n",
        "    #define biases rendomly\n",
        "    self.bias = torch.nn.Parameter(torch.randn(num_outputs))\n",
        "\n",
        "  def forward(self, x):\n",
        "    #z = x*weights + bias\n",
        "    z = torch.matmul(x, self.W) + self.bias\n",
        "    #y = sigmoid(z)\n",
        "    y = torch.sigmoid(z)\n",
        "    return y\n",
        "\n"
      ],
      "metadata": {
        "id": "12f6Ii0UXMI5"
      },
      "execution_count": 10,
      "outputs": []
    },
    {
      "cell_type": "code",
      "source": [
        "num_inputs = 4\n",
        "num_outputs = 3\n",
        "#Initialize layer\n",
        "layer = OurDenseLayer(num_inputs, num_outputs)\n",
        "#Define input layer x\n",
        "x_layer = torch.tensor([1,2,3,4], dtype=torch.float32)\n",
        "y = layer(x_layer)\n",
        "\n",
        "print(f\"x_layer (input) shape is: {x_layer.shape} \")\n",
        "print(f\"y (output) shape is {y.shape}\")\n",
        "print(f\"Outpit result is {y}\")\n",
        "\n",
        "\n",
        "\n"
      ],
      "metadata": {
        "colab": {
          "base_uri": "https://localhost:8080/"
        },
        "id": "3C6C6zePZsZF",
        "outputId": "e63e172e-b845-4292-b893-250c327a1a27"
      },
      "execution_count": 11,
      "outputs": [
        {
          "output_type": "stream",
          "name": "stdout",
          "text": [
            "x_layer (input) shape is: torch.Size([4]) \n",
            "y (output) shape is torch.Size([3])\n",
            "Outpit result is tensor([4.8948e-04, 9.5883e-01, 2.4581e-04], grad_fn=<SigmoidBackward0>)\n"
          ]
        }
      ]
    },
    {
      "cell_type": "markdown",
      "source": [
        "Defining NN using Sequential API"
      ],
      "metadata": {
        "id": "KSLGZ355ch3l"
      }
    },
    {
      "cell_type": "code",
      "source": [
        "n_input_nodes = 2\n",
        "n_output_nodes = 3\n",
        "\n",
        "model = nn.Sequential(nn.Linear(n_input_nodes, n_output_nodes), #Dense layer\n",
        "                      nn.Sigmoid()) #Activation Function\n",
        "x_input = torch.tensor([4,5.])\n",
        "model_out = model(x_input)\n",
        "print(f\"input shape: {x_input.shape}\")\n",
        "print(f\"Output shape: {model_out.shape}\")\n",
        "print(f\"Output : {model_out}\")\n",
        "\n"
      ],
      "metadata": {
        "colab": {
          "base_uri": "https://localhost:8080/"
        },
        "id": "Gi7l4rl4ck4d",
        "outputId": "2fcaa12b-eadc-46fb-9cd0-ab64af3d81d6"
      },
      "execution_count": 12,
      "outputs": [
        {
          "output_type": "stream",
          "name": "stdout",
          "text": [
            "input shape: torch.Size([2])\n",
            "Output shape: torch.Size([3])\n",
            "Output : tensor([0.0232, 0.3768, 0.2815], grad_fn=<SigmoidBackward0>)\n"
          ]
        }
      ]
    },
    {
      "cell_type": "markdown",
      "source": [
        "Linear with Sigmoid Activation (NN using Subclassing)"
      ],
      "metadata": {
        "id": "BSUP8TF5fp02"
      }
    },
    {
      "cell_type": "code",
      "source": [
        "class LinearWithSigmoidActivation(nn.Module):\n",
        "  def __init__(self, num_inputs, num_outputs):\n",
        "    super(LinearWithSigmoidActivation, self).__init__()\n",
        "    self.linear = nn.Linear(num_inputs, num_outputs)\n",
        "    self.activation = nn.Sigmoid()\n",
        "\n",
        "  def forward(self, x):\n",
        "    linear_out = self.linear(x)\n",
        "    out = self.activation(linear_out)\n",
        "    return out\n",
        "\n",
        "n_input_nodes = 2\n",
        "n_output_nodes = 3\n",
        "x_input  = torch.tensor([4,5.])\n",
        "model = LinearWithSigmoidActivation(n_input_nodes, n_output_nodes)\n",
        "model_out  = model(x_input)\n",
        "print(f\"input shape: {x_input.shape}\")\n",
        "print(f\"Output shape: {model_out.shape}\")\n",
        "print(f\"Output : {model_out}\")\n",
        "\n",
        ""
      ],
      "metadata": {
        "colab": {
          "base_uri": "https://localhost:8080/"
        },
        "id": "r-8Gmq3kfvYS",
        "outputId": "d91c63ed-1128-46fa-f736-862bf7060da5"
      },
      "execution_count": 15,
      "outputs": [
        {
          "output_type": "stream",
          "name": "stdout",
          "text": [
            "input shape: torch.Size([2])\n",
            "Output shape: torch.Size([3])\n",
            "Output : tensor([0.5241, 0.9943, 0.6841], grad_fn=<SigmoidBackward0>)\n"
          ]
        }
      ]
    },
    {
      "cell_type": "markdown",
      "source": [
        "Custom Behavior with Subclassing nn.Module"
      ],
      "metadata": {
        "id": "KoaLpAV3_4Ik"
      }
    },
    {
      "cell_type": "code",
      "source": [
        "class LinearButSometimesIdentity(nn.Module):\n",
        "  def __init__(self, num_inputs, num_outputs):\n",
        "    super(LinearButSometimesIdentity, self).__init__()\n",
        "    self.linear = nn.Linear(num_inputs, num_outputs)\n",
        "\n",
        "  def forward(self, x, isidentity=False):\n",
        "    if isidentity:\n",
        "      return x\n",
        "    else:\n",
        "      return self.linear(x)\n",
        "\n",
        "model = LinearButSometimesIdentity(num_inputs=2, num_outputs=3)\n",
        "x_input = torch.tensor([4,5.])\n",
        "model_out_linear = model(x_input)\n",
        "model_out_identity = model(x_input, isidentity=True)\n",
        "print(f\"input shape: {x_input.shape}\")\n",
        "print(f\"Output shape: {model_out_linear.shape}\")\n",
        "print(f\"Output linear : {model_out_linear}\")\n",
        "print(f\"Output shape: {model_out_identity.shape}\")\n",
        "print(f\"Output Identity : {model_out_identity}\")\n",
        "\n"
      ],
      "metadata": {
        "colab": {
          "base_uri": "https://localhost:8080/"
        },
        "id": "5uNyZW1XACGk",
        "outputId": "34498ee7-e73e-40ab-d628-189bf758add4"
      },
      "execution_count": 20,
      "outputs": [
        {
          "output_type": "stream",
          "name": "stdout",
          "text": [
            "input shape: torch.Size([2])\n",
            "Output shape: torch.Size([3])\n",
            "Output linear : tensor([-3.1093, -2.8217, -0.9816], grad_fn=<ViewBackward0>)\n",
            "Output shape: torch.Size([2])\n",
            "Output Identity : tensor([4., 5.])\n"
          ]
        }
      ]
    },
    {
      "cell_type": "markdown",
      "source": [
        "# Automatic Differentiation in Pytorch"
      ],
      "metadata": {
        "id": "DiezdXlZDl5w"
      }
    },
    {
      "cell_type": "code",
      "source": [
        "#derivative of y=x^2\n",
        "\n",
        "x = torch.tensor(3.0, requires_grad=True)\n",
        "y = x**2\n",
        "y.backward()\n",
        "dy_dx = x.grad\n",
        "print(f\"dy/dx of x^2  at x = 3 is {dy_dx}\")\n",
        "assert dy_dx == 6"
      ],
      "metadata": {
        "colab": {
          "base_uri": "https://localhost:8080/"
        },
        "id": "JG_0X8gnDpt_",
        "outputId": "04545fed-4444-430e-c6ee-b43e1f6f3840"
      },
      "execution_count": 23,
      "outputs": [
        {
          "output_type": "stream",
          "name": "stdout",
          "text": [
            "dy/dx of x^2  at x = 3 is 6.0\n"
          ]
        }
      ]
    },
    {
      "cell_type": "markdown",
      "source": [
        "# Finding Minimum of an item"
      ],
      "metadata": {
        "id": "M9PaNBAvFcQb"
      }
    },
    {
      "cell_type": "code",
      "source": [
        "#Function L = (x-xf)^2\n",
        "\n",
        "x = torch.randn(1) #initialize random x\n",
        "print(f\"x is {x.item()}\")\n",
        "\n",
        "learning_rate = 1e-2\n",
        "history = []\n",
        "x_f = 4\n",
        "\n",
        "for i in range(500):\n",
        "  x = torch.tensor([x], requires_grad=True)\n",
        "  loss = (x-x_f)**2\n",
        "  loss.backward()\n",
        "  x = x.item() - learning_rate*x.grad #gradient descent formula => x_new = x_old - learning_rate*(dloss/dx)\n",
        "  history.append(x.item())\n",
        "\n",
        "\n",
        "plt.plot(history)\n",
        "plt.plot([0,500], [x_f, x_f])\n",
        "plt.legend('Predicted', 'True')\n",
        "plt.xlabel('Iteration')\n",
        "plt.ylabel('x value')\n",
        "plt.show()\n",
        "\n",
        "\n"
      ],
      "metadata": {
        "colab": {
          "base_uri": "https://localhost:8080/",
          "height": 538
        },
        "id": "DzVBb6cdFb2p",
        "outputId": "66fb54ad-6735-42bd-edbb-f720f3bef356"
      },
      "execution_count": 25,
      "outputs": [
        {
          "output_type": "stream",
          "name": "stdout",
          "text": [
            "x is 0.18479585647583008\n"
          ]
        },
        {
          "output_type": "stream",
          "name": "stderr",
          "text": [
            "/tmp/ipython-input-813058442.py:20: UserWarning: Legend does not support handles for str instances.\n",
            "A proxy artist may be used instead.\n",
            "See: https://matplotlib.org/stable/users/explain/axes/legend_guide.html#controlling-the-legend-entries\n",
            "  plt.legend('Predicted', 'True')\n"
          ]
        },
        {
          "output_type": "display_data",
          "data": {
            "text/plain": [
              "<Figure size 640x480 with 1 Axes>"
            ],
            "image/png": "[encoded data removed]"
          },
          "metadata": {}
        }
      ]
    }
  ]
}